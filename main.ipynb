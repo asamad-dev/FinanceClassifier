{
 "cells": [
  {
   "cell_type": "code",
   "execution_count": 2,
   "id": "5a92a227",
   "metadata": {},
   "outputs": [],
   "source": [
    "import tkinter as tk\n",
    "from tkinter import filedialog, messagebox\n",
    "import pandas as pd\n",
    "import os\n",
    "\n",
    "def process_excel(input_files, output_folder):\n",
    "    for file_path in input_files:\n",
    "        try:\n",
    "            df = pd.read_excel(file_path)\n",
    "            output_path = os.path.join(output_folder, f\"processed_{os.path.basename(file_path)}\")\n",
    "            df.to_excel(output_path, index=False)\n",
    "        except Exception as e:\n",
    "            messagebox.showerror(\"Processing Error\", f\"Failed processing:\\n{file_path}\\n\\nError:\\n{str(e)}\")\n",
    "\n",
    "def select_files():\n",
    "    files = filedialog.askopenfilenames(filetypes=[(\"Excel files\", \"*.xlsx *.xls\")])\n",
    "    if files:\n",
    "        global selected_input_files\n",
    "        selected_input_files = list(files)  # store real list\n",
    "        input_files_display_var.set(\"; \".join(files))  # only for display\n",
    "\n",
    "def select_output_folder():\n",
    "    folder = filedialog.askdirectory()\n",
    "    if folder:\n",
    "        output_folder_var.set(folder)\n",
    "\n",
    "def run_processing():\n",
    "    if not selected_input_files or not output_folder_var.get():\n",
    "        messagebox.showerror(\"Error\", \"Please select input files and output folder.\")\n",
    "        return\n",
    "    process_excel(selected_input_files, output_folder_var.get())\n",
    "    messagebox.showinfo(\"Success\", \"Processing completed!\")\n",
    "\n",
    "root = tk.Tk()\n",
    "root.title(\"Excel Processor\")\n",
    "\n",
    "# Variables\n",
    "selected_input_files = []  # real list of files\n",
    "input_files_display_var = tk.StringVar()  # shown in entry\n",
    "output_folder_var = tk.StringVar()\n",
    "\n",
    "# Widgets\n",
    "tk.Button(root, text=\"Select Excel Files\", command=select_files).pack(pady=5)\n",
    "tk.Entry(root, textvariable=input_files_display_var, width=80, state=\"readonly\").pack(pady=5)\n",
    "\n",
    "tk.Button(root, text=\"Select Output Folder\", command=select_output_folder).pack(pady=5)\n",
    "tk.Entry(root, textvariable=output_folder_var, width=80, state=\"readonly\").pack(pady=5)\n",
    "\n",
    "tk.Button(root, text=\"Run\", command=run_processing).pack(pady=20)\n",
    "\n",
    "root.mainloop()\n"
   ]
  }
 ],
 "metadata": {
  "kernelspec": {
   "display_name": "myenv",
   "language": "python",
   "name": "python3"
  },
  "language_info": {
   "codemirror_mode": {
    "name": "ipython",
    "version": 3
   },
   "file_extension": ".py",
   "mimetype": "text/x-python",
   "name": "python",
   "nbconvert_exporter": "python",
   "pygments_lexer": "ipython3",
   "version": "3.11.5"
  }
 },
 "nbformat": 4,
 "nbformat_minor": 5
}
